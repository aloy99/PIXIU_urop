{
 "cells": [
  {
   "cell_type": "code",
   "execution_count": 1,
   "metadata": {},
   "outputs": [],
   "source": [
    "import sys\n",
    "sys.path.append('../src/metrics/BARTScore')\n",
    "sys.path.append('../src/metrics/GPTScore')"
   ]
  },
  {
   "cell_type": "code",
   "execution_count": 2,
   "metadata": {},
   "outputs": [
    {
     "name": "stdout",
     "output_type": "stream",
     "text": [
      "[2023-08-10 15:32:47,090] [INFO] [real_accelerator.py:133:get_accelerator] Setting ds_accelerator to cuda (auto detect)\n"
     ]
    }
   ],
   "source": [
    "from bart_score import BARTScorer"
   ]
  },
  {
   "cell_type": "code",
   "execution_count": 5,
   "metadata": {},
   "outputs": [
    {
     "data": {
      "application/vnd.jupyter.widget-view+json": {
       "model_id": "81d5eb8e7a764c62b8a8f378d6147d04",
       "version_major": 2,
       "version_minor": 0
      },
      "text/plain": [
       "Downloading pytorch_model.bin:   0%|          | 0.00/1.63G [00:00<?, ?B/s]"
      ]
     },
     "metadata": {},
     "output_type": "display_data"
    },
    {
     "data": {
      "application/vnd.jupyter.widget-view+json": {
       "model_id": "58f6cc5e8ef7421c866cb24e768557e0",
       "version_major": 2,
       "version_minor": 0
      },
      "text/plain": [
       "Downloading (…)neration_config.json:   0%|          | 0.00/363 [00:00<?, ?B/s]"
      ]
     },
     "metadata": {},
     "output_type": "display_data"
    }
   ],
   "source": [
    "bart_scorer = BARTScorer(\n",
    "    device='cuda:3', \n",
    "    checkpoint='facebook/bart-large-cnn'\n",
    ")"
   ]
  },
  {
   "cell_type": "code",
   "execution_count": 7,
   "metadata": {},
   "outputs": [],
   "source": [
    "bart_scorer.load(path='../src/metrics/BARTScore/bart_score.pth')"
   ]
  },
  {
   "cell_type": "code",
   "execution_count": 14,
   "metadata": {},
   "outputs": [
    {
     "data": {
      "text/plain": [
       "[-2.336202621459961,\n",
       " -2.336202621459961,\n",
       " -2.336202621459961,\n",
       " -2.336202621459961]"
      ]
     },
     "execution_count": 14,
     "metadata": {},
     "output_type": "execute_result"
    }
   ],
   "source": [
    "bart_scorer.score(\n",
    "    srcs=['This is interesting.', 'This is interesting.', 'This is interesting.', 'This is interesting.'], \n",
    "    tgts=['This is fun.', 'This is fun.', 'This is fun.', 'This is fun.'], \n",
    "    batch_size=4\n",
    ")"
   ]
  },
  {
   "cell_type": "code",
   "execution_count": 1,
   "metadata": {},
   "outputs": [],
   "source": [
    "import pandas as pd"
   ]
  },
  {
   "cell_type": "code",
   "execution_count": 24,
   "metadata": {},
   "outputs": [
    {
     "data": {
      "text/html": [
       "<div>\n",
       "<style scoped>\n",
       "    .dataframe tbody tr th:only-of-type {\n",
       "        vertical-align: middle;\n",
       "    }\n",
       "\n",
       "    .dataframe tbody tr th {\n",
       "        vertical-align: top;\n",
       "    }\n",
       "\n",
       "    .dataframe thead th {\n",
       "        text-align: right;\n",
       "    }\n",
       "</style>\n",
       "<table border=\"1\" class=\"dataframe\">\n",
       "  <thead>\n",
       "    <tr style=\"text-align: right;\">\n",
       "      <th></th>\n",
       "      <th>doc_id</th>\n",
       "      <th>prompt_0</th>\n",
       "      <th>logit_0</th>\n",
       "      <th>truth</th>\n",
       "      <th>rouge1</th>\n",
       "      <th>rouge2</th>\n",
       "      <th>rougeL</th>\n",
       "      <th>bert_score_f1</th>\n",
       "      <th>bart_score</th>\n",
       "      <th>gpt_score</th>\n",
       "    </tr>\n",
       "  </thead>\n",
       "  <tbody>\n",
       "    <tr>\n",
       "      <th>0</th>\n",
       "      <td>0</td>\n",
       "      <td>Human: \\nYou are given a text that consists of...</td>\n",
       "      <td></td>\n",
       "      <td>Cell Culture Market to Reach $36.92 Bn, Global...</td>\n",
       "      <td>('Cell Culture Market to Reach $36.92 Bn, Glob...</td>\n",
       "      <td>('Cell Culture Market to Reach $36.92 Bn, Glob...</td>\n",
       "      <td>('Cell Culture Market to Reach $36.92 Bn, Glob...</td>\n",
       "      <td>('Cell Culture Market to Reach $36.92 Bn, Glob...</td>\n",
       "      <td>('Cell Culture Market to Reach $36.92 Bn, Glob...</td>\n",
       "      <td>('Cell Culture Market to Reach $36.92 Bn, Glob...</td>\n",
       "    </tr>\n",
       "    <tr>\n",
       "      <th>1</th>\n",
       "      <td>1</td>\n",
       "      <td>Human: \\nYou are given a text that consists of...</td>\n",
       "      <td>The PNC Financial Services Group, Inc. declare...</td>\n",
       "      <td>PNC Declares Dividend Of $1.15 On Common Stock</td>\n",
       "      <td>('PNC Declares Dividend Of $1.15 On Common Sto...</td>\n",
       "      <td>('PNC Declares Dividend Of $1.15 On Common Sto...</td>\n",
       "      <td>('PNC Declares Dividend Of $1.15 On Common Sto...</td>\n",
       "      <td>('PNC Declares Dividend Of $1.15 On Common Sto...</td>\n",
       "      <td>('PNC Declares Dividend Of $1.15 On Common Sto...</td>\n",
       "      <td>('PNC Declares Dividend Of $1.15 On Common Sto...</td>\n",
       "    </tr>\n",
       "    <tr>\n",
       "      <th>2</th>\n",
       "      <td>2</td>\n",
       "      <td>Human: \\nYou are given a text that consists of...</td>\n",
       "      <td></td>\n",
       "      <td>Lumenis Launches Digital Duet, the First Digit...</td>\n",
       "      <td>('Lumenis Launches Digital Duet, the First Dig...</td>\n",
       "      <td>('Lumenis Launches Digital Duet, the First Dig...</td>\n",
       "      <td>('Lumenis Launches Digital Duet, the First Dig...</td>\n",
       "      <td>('Lumenis Launches Digital Duet, the First Dig...</td>\n",
       "      <td>('Lumenis Launches Digital Duet, the First Dig...</td>\n",
       "      <td>('Lumenis Launches Digital Duet, the First Dig...</td>\n",
       "    </tr>\n",
       "    <tr>\n",
       "      <th>3</th>\n",
       "      <td>3</td>\n",
       "      <td>Human: \\nYou are given a text that consists of...</td>\n",
       "      <td></td>\n",
       "      <td>Global Bacterial and Plasmid Vectors Market Re...</td>\n",
       "      <td>('Global Bacterial and Plasmid Vectors Market ...</td>\n",
       "      <td>('Global Bacterial and Plasmid Vectors Market ...</td>\n",
       "      <td>('Global Bacterial and Plasmid Vectors Market ...</td>\n",
       "      <td>('Global Bacterial and Plasmid Vectors Market ...</td>\n",
       "      <td>('Global Bacterial and Plasmid Vectors Market ...</td>\n",
       "      <td>('Global Bacterial and Plasmid Vectors Market ...</td>\n",
       "    </tr>\n",
       "    <tr>\n",
       "      <th>4</th>\n",
       "      <td>4</td>\n",
       "      <td>Human: \\nYou are given a text that consists of...</td>\n",
       "      <td></td>\n",
       "      <td>FIDE President Arkady Dvorkovich presented And...</td>\n",
       "      <td>('FIDE President Arkady Dvorkovich presented A...</td>\n",
       "      <td>('FIDE President Arkady Dvorkovich presented A...</td>\n",
       "      <td>('FIDE President Arkady Dvorkovich presented A...</td>\n",
       "      <td>('FIDE President Arkady Dvorkovich presented A...</td>\n",
       "      <td>('FIDE President Arkady Dvorkovich presented A...</td>\n",
       "      <td>('FIDE President Arkady Dvorkovich presented A...</td>\n",
       "    </tr>\n",
       "    <tr>\n",
       "      <th>5</th>\n",
       "      <td>5</td>\n",
       "      <td>Human: \\nYou are given a text that consists of...</td>\n",
       "      <td>WaveDyn, an ophthalmic medical device company,...</td>\n",
       "      <td>WaveFront Dynamics Inc. Initiates $3mm Series ...</td>\n",
       "      <td>('WaveFront Dynamics Inc. Initiates $3mm Serie...</td>\n",
       "      <td>('WaveFront Dynamics Inc. Initiates $3mm Serie...</td>\n",
       "      <td>('WaveFront Dynamics Inc. Initiates $3mm Serie...</td>\n",
       "      <td>('WaveFront Dynamics Inc. Initiates $3mm Serie...</td>\n",
       "      <td>('WaveFront Dynamics Inc. Initiates $3mm Serie...</td>\n",
       "      <td>('WaveFront Dynamics Inc. Initiates $3mm Serie...</td>\n",
       "    </tr>\n",
       "    <tr>\n",
       "      <th>6</th>\n",
       "      <td>6</td>\n",
       "      <td>Human: \\nYou are given a text that consists of...</td>\n",
       "      <td>NEW YORK, Oct. 5, 2020 /PRNewswire/ -- If you ...</td>\n",
       "      <td>WeissLaw LLP Reminds GLIBA, CBMG, and GRUB Sha...</td>\n",
       "      <td>('WeissLaw LLP Reminds GLIBA, CBMG, and GRUB S...</td>\n",
       "      <td>('WeissLaw LLP Reminds GLIBA, CBMG, and GRUB S...</td>\n",
       "      <td>('WeissLaw LLP Reminds GLIBA, CBMG, and GRUB S...</td>\n",
       "      <td>('WeissLaw LLP Reminds GLIBA, CBMG, and GRUB S...</td>\n",
       "      <td>('WeissLaw LLP Reminds GLIBA, CBMG, and GRUB S...</td>\n",
       "      <td>('WeissLaw LLP Reminds GLIBA, CBMG, and GRUB S...</td>\n",
       "    </tr>\n",
       "    <tr>\n",
       "      <th>7</th>\n",
       "      <td>7</td>\n",
       "      <td>Human: \\nYou are given a text that consists of...</td>\n",
       "      <td>Shanghai Guijiu, a Chinese liquor company, pre...</td>\n",
       "      <td>Shanghai Guijiu Broke Through With \"Innovation...</td>\n",
       "      <td>('Shanghai Guijiu Broke Through With \"Innovati...</td>\n",
       "      <td>('Shanghai Guijiu Broke Through With \"Innovati...</td>\n",
       "      <td>('Shanghai Guijiu Broke Through With \"Innovati...</td>\n",
       "      <td>('Shanghai Guijiu Broke Through With \"Innovati...</td>\n",
       "      <td>('Shanghai Guijiu Broke Through With \"Innovati...</td>\n",
       "      <td>('Shanghai Guijiu Broke Through With \"Innovati...</td>\n",
       "    </tr>\n",
       "    <tr>\n",
       "      <th>8</th>\n",
       "      <td>8</td>\n",
       "      <td>Human: \\nYou are given a text that consists of...</td>\n",
       "      <td></td>\n",
       "      <td>FORM 8.3 - WILLIS TOWERS WATSON PLC</td>\n",
       "      <td>('FORM 8.3 - WILLIS TOWERS WATSON PLC', '')</td>\n",
       "      <td>('FORM 8.3 - WILLIS TOWERS WATSON PLC', '')</td>\n",
       "      <td>('FORM 8.3 - WILLIS TOWERS WATSON PLC', '')</td>\n",
       "      <td>('FORM 8.3 - WILLIS TOWERS WATSON PLC', '')</td>\n",
       "      <td>('FORM 8.3 - WILLIS TOWERS WATSON PLC', '')</td>\n",
       "      <td>('FORM 8.3 - WILLIS TOWERS WATSON PLC', '')</td>\n",
       "    </tr>\n",
       "    <tr>\n",
       "      <th>9</th>\n",
       "      <td>9</td>\n",
       "      <td>Human: \\nYou are given a text that consists of...</td>\n",
       "      <td></td>\n",
       "      <td>Fresh Berry Leader Driscolls Appoints Two New ...</td>\n",
       "      <td>('Fresh Berry Leader Driscolls Appoints Two Ne...</td>\n",
       "      <td>('Fresh Berry Leader Driscolls Appoints Two Ne...</td>\n",
       "      <td>('Fresh Berry Leader Driscolls Appoints Two Ne...</td>\n",
       "      <td>('Fresh Berry Leader Driscolls Appoints Two Ne...</td>\n",
       "      <td>('Fresh Berry Leader Driscolls Appoints Two Ne...</td>\n",
       "      <td>('Fresh Berry Leader Driscolls Appoints Two Ne...</td>\n",
       "    </tr>\n",
       "  </tbody>\n",
       "</table>\n",
       "</div>"
      ],
      "text/plain": [
       "   doc_id                                           prompt_0  \\\n",
       "0       0  Human: \\nYou are given a text that consists of...   \n",
       "1       1  Human: \\nYou are given a text that consists of...   \n",
       "2       2  Human: \\nYou are given a text that consists of...   \n",
       "3       3  Human: \\nYou are given a text that consists of...   \n",
       "4       4  Human: \\nYou are given a text that consists of...   \n",
       "5       5  Human: \\nYou are given a text that consists of...   \n",
       "6       6  Human: \\nYou are given a text that consists of...   \n",
       "7       7  Human: \\nYou are given a text that consists of...   \n",
       "8       8  Human: \\nYou are given a text that consists of...   \n",
       "9       9  Human: \\nYou are given a text that consists of...   \n",
       "\n",
       "                                             logit_0  \\\n",
       "0                                                      \n",
       "1  The PNC Financial Services Group, Inc. declare...   \n",
       "2                                                      \n",
       "3                                                      \n",
       "4                                                      \n",
       "5  WaveDyn, an ophthalmic medical device company,...   \n",
       "6  NEW YORK, Oct. 5, 2020 /PRNewswire/ -- If you ...   \n",
       "7  Shanghai Guijiu, a Chinese liquor company, pre...   \n",
       "8                                                      \n",
       "9                                                      \n",
       "\n",
       "                                               truth  \\\n",
       "0  Cell Culture Market to Reach $36.92 Bn, Global...   \n",
       "1     PNC Declares Dividend Of $1.15 On Common Stock   \n",
       "2  Lumenis Launches Digital Duet, the First Digit...   \n",
       "3  Global Bacterial and Plasmid Vectors Market Re...   \n",
       "4  FIDE President Arkady Dvorkovich presented And...   \n",
       "5  WaveFront Dynamics Inc. Initiates $3mm Series ...   \n",
       "6  WeissLaw LLP Reminds GLIBA, CBMG, and GRUB Sha...   \n",
       "7  Shanghai Guijiu Broke Through With \"Innovation...   \n",
       "8                FORM 8.3 - WILLIS TOWERS WATSON PLC   \n",
       "9  Fresh Berry Leader Driscolls Appoints Two New ...   \n",
       "\n",
       "                                              rouge1  \\\n",
       "0  ('Cell Culture Market to Reach $36.92 Bn, Glob...   \n",
       "1  ('PNC Declares Dividend Of $1.15 On Common Sto...   \n",
       "2  ('Lumenis Launches Digital Duet, the First Dig...   \n",
       "3  ('Global Bacterial and Plasmid Vectors Market ...   \n",
       "4  ('FIDE President Arkady Dvorkovich presented A...   \n",
       "5  ('WaveFront Dynamics Inc. Initiates $3mm Serie...   \n",
       "6  ('WeissLaw LLP Reminds GLIBA, CBMG, and GRUB S...   \n",
       "7  ('Shanghai Guijiu Broke Through With \"Innovati...   \n",
       "8        ('FORM 8.3 - WILLIS TOWERS WATSON PLC', '')   \n",
       "9  ('Fresh Berry Leader Driscolls Appoints Two Ne...   \n",
       "\n",
       "                                              rouge2  \\\n",
       "0  ('Cell Culture Market to Reach $36.92 Bn, Glob...   \n",
       "1  ('PNC Declares Dividend Of $1.15 On Common Sto...   \n",
       "2  ('Lumenis Launches Digital Duet, the First Dig...   \n",
       "3  ('Global Bacterial and Plasmid Vectors Market ...   \n",
       "4  ('FIDE President Arkady Dvorkovich presented A...   \n",
       "5  ('WaveFront Dynamics Inc. Initiates $3mm Serie...   \n",
       "6  ('WeissLaw LLP Reminds GLIBA, CBMG, and GRUB S...   \n",
       "7  ('Shanghai Guijiu Broke Through With \"Innovati...   \n",
       "8        ('FORM 8.3 - WILLIS TOWERS WATSON PLC', '')   \n",
       "9  ('Fresh Berry Leader Driscolls Appoints Two Ne...   \n",
       "\n",
       "                                              rougeL  \\\n",
       "0  ('Cell Culture Market to Reach $36.92 Bn, Glob...   \n",
       "1  ('PNC Declares Dividend Of $1.15 On Common Sto...   \n",
       "2  ('Lumenis Launches Digital Duet, the First Dig...   \n",
       "3  ('Global Bacterial and Plasmid Vectors Market ...   \n",
       "4  ('FIDE President Arkady Dvorkovich presented A...   \n",
       "5  ('WaveFront Dynamics Inc. Initiates $3mm Serie...   \n",
       "6  ('WeissLaw LLP Reminds GLIBA, CBMG, and GRUB S...   \n",
       "7  ('Shanghai Guijiu Broke Through With \"Innovati...   \n",
       "8        ('FORM 8.3 - WILLIS TOWERS WATSON PLC', '')   \n",
       "9  ('Fresh Berry Leader Driscolls Appoints Two Ne...   \n",
       "\n",
       "                                       bert_score_f1  \\\n",
       "0  ('Cell Culture Market to Reach $36.92 Bn, Glob...   \n",
       "1  ('PNC Declares Dividend Of $1.15 On Common Sto...   \n",
       "2  ('Lumenis Launches Digital Duet, the First Dig...   \n",
       "3  ('Global Bacterial and Plasmid Vectors Market ...   \n",
       "4  ('FIDE President Arkady Dvorkovich presented A...   \n",
       "5  ('WaveFront Dynamics Inc. Initiates $3mm Serie...   \n",
       "6  ('WeissLaw LLP Reminds GLIBA, CBMG, and GRUB S...   \n",
       "7  ('Shanghai Guijiu Broke Through With \"Innovati...   \n",
       "8        ('FORM 8.3 - WILLIS TOWERS WATSON PLC', '')   \n",
       "9  ('Fresh Berry Leader Driscolls Appoints Two Ne...   \n",
       "\n",
       "                                          bart_score  \\\n",
       "0  ('Cell Culture Market to Reach $36.92 Bn, Glob...   \n",
       "1  ('PNC Declares Dividend Of $1.15 On Common Sto...   \n",
       "2  ('Lumenis Launches Digital Duet, the First Dig...   \n",
       "3  ('Global Bacterial and Plasmid Vectors Market ...   \n",
       "4  ('FIDE President Arkady Dvorkovich presented A...   \n",
       "5  ('WaveFront Dynamics Inc. Initiates $3mm Serie...   \n",
       "6  ('WeissLaw LLP Reminds GLIBA, CBMG, and GRUB S...   \n",
       "7  ('Shanghai Guijiu Broke Through With \"Innovati...   \n",
       "8        ('FORM 8.3 - WILLIS TOWERS WATSON PLC', '')   \n",
       "9  ('Fresh Berry Leader Driscolls Appoints Two Ne...   \n",
       "\n",
       "                                           gpt_score  \n",
       "0  ('Cell Culture Market to Reach $36.92 Bn, Glob...  \n",
       "1  ('PNC Declares Dividend Of $1.15 On Common Sto...  \n",
       "2  ('Lumenis Launches Digital Duet, the First Dig...  \n",
       "3  ('Global Bacterial and Plasmid Vectors Market ...  \n",
       "4  ('FIDE President Arkady Dvorkovich presented A...  \n",
       "5  ('WaveFront Dynamics Inc. Initiates $3mm Serie...  \n",
       "6  ('WeissLaw LLP Reminds GLIBA, CBMG, and GRUB S...  \n",
       "7  ('Shanghai Guijiu Broke Through With \"Innovati...  \n",
       "8        ('FORM 8.3 - WILLIS TOWERS WATSON PLC', '')  \n",
       "9  ('Fresh Berry Leader Driscolls Appoints Two Ne...  "
      ]
     },
     "execution_count": 24,
     "metadata": {},
     "output_type": "execute_result"
    }
   ],
   "source": [
    "result = pd.read_json('../flare_edtsum_write_out_info.json')\n",
    "result[:10]"
   ]
  },
  {
   "cell_type": "code",
   "execution_count": 25,
   "metadata": {},
   "outputs": [
    {
     "data": {
      "text/plain": [
       "0.5685"
      ]
     },
     "execution_count": 25,
     "metadata": {},
     "output_type": "execute_result"
    }
   ],
   "source": [
    "(result['logit_0'] != '').sum() / len(result)"
   ]
  }
 ],
 "metadata": {
  "kernelspec": {
   "display_name": "Python 3 (ipykernel)",
   "language": "python",
   "name": "python3"
  },
  "orig_nbformat": 4
 },
 "nbformat": 4,
 "nbformat_minor": 2
}
